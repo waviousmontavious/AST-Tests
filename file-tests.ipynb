{
 "cells": [
  {
   "cell_type": "code",
   "execution_count": 2,
   "metadata": {},
   "outputs": [],
   "source": [
    "from pathlib import Path\n",
    "import ast\n",
    "import astpretty"
   ]
  },
  {
   "cell_type": "code",
   "execution_count": 3,
   "metadata": {},
   "outputs": [],
   "source": [
    "with Path('./example.py').open(mode='r', encoding='utf8') as f:\n",
    "    tree = ast.parse(f.read())"
   ]
  },
  {
   "cell_type": "code",
   "execution_count": 4,
   "metadata": {},
   "outputs": [],
   "source": [
    "with Path('./example.py.ast').open(mode='w', encoding='utf8') as f:\n",
    "    f.write(astpretty.pformat(tree))"
   ]
  },
  {
   "cell_type": "code",
   "execution_count": 5,
   "metadata": {},
   "outputs": [
    {
     "name": "stdout",
     "output_type": "stream",
     "text": [
      "[<class '_ast.Import'>, <class '_ast.ImportFrom'>, <class '_ast.ImportFrom'>, <class '_ast.Assign'>, <class '_ast.Assign'>, <class '_ast.Assign'>, <class '_ast.Assign'>, <class '_ast.If'>]\n"
     ]
    }
   ],
   "source": [
    "print([type(n) for n in tree.body])"
   ]
  },
  {
   "cell_type": "code",
   "execution_count": 24,
   "metadata": {},
   "outputs": [],
   "source": [
    "assign_call_list = list(filter(\n",
    "    lambda n: isinstance(n, ast.Assign) and isinstance(n.value, ast.Call), \n",
    "    tree.body))"
   ]
  },
  {
   "cell_type": "code",
   "execution_count": 25,
   "metadata": {},
   "outputs": [
    {
     "name": "stdout",
     "output_type": "stream",
     "text": [
      "[<_ast.Assign object at 0x000001DD8CEA6310>, <_ast.Assign object at 0x000001DD8CEA65E0>, <_ast.Assign object at 0x000001DD8CEA6820>]\n"
     ]
    }
   ],
   "source": [
    "print(assign_call_list)"
   ]
  },
  {
   "cell_type": "code",
   "execution_count": 26,
   "metadata": {},
   "outputs": [
    {
     "name": "stdout",
     "output_type": "stream",
     "text": [
      "['arg1', 'arg2']\n"
     ]
    }
   ],
   "source": [
    "call1 = assign_call_list[0].value\n",
    "print([arg.value for arg in call1.args])"
   ]
  },
  {
   "cell_type": "code",
   "execution_count": 27,
   "metadata": {},
   "outputs": [
    {
     "name": "stdout",
     "output_type": "stream",
     "text": [
      "[('param1', 'arg3')]\n"
     ]
    }
   ],
   "source": [
    "print([(kwd.arg, kwd.value.value) for kwd in call1.keywords])"
   ]
  },
  {
   "cell_type": "code",
   "execution_count": 28,
   "metadata": {},
   "outputs": [
    {
     "name": "stdout",
     "output_type": "stream",
     "text": [
      "val, val, val\n"
     ]
    }
   ],
   "source": [
    "print(', '.join(['val', 'val', 'val']))"
   ]
  },
  {
   "cell_type": "code",
   "execution_count": 29,
   "metadata": {},
   "outputs": [
    {
     "name": "stdout",
     "output_type": "stream",
     "text": [
      "LET val1 = CALL func1(\"arg1\", \"arg2\", param1=\"arg3\");\n",
      "LET val2 = CALL modfunc1(param1=\"arg1\", param2=\"arg2\", param3=\"10\");\n",
      "LET val3 = CALL modfunc2(\"1\", \"2\", \"3\", \"arg4\", \"arg5\");\n"
     ]
    }
   ],
   "source": [
    "for assign in assign_call_list:\n",
    "    var = assign.targets[0].id\n",
    "    call = assign.value\n",
    "    call_name = call.func.attr if isinstance(call.func, ast.Attribute) else call.func.id\n",
    "    args = [f'\"{arg.value}\"' for arg in call.args]\n",
    "    keywords = [f'{kwd.arg}=\"{kwd.value.value}\"' for kwd in call.keywords]\n",
    "\n",
    "    #print(args + keywords)\n",
    "    print(f'LET {var} = CALL {call_name}({\", \".join(args + keywords)});')"
   ]
  },
  {
   "cell_type": "code",
   "execution_count": null,
   "metadata": {},
   "outputs": [],
   "source": []
  }
 ],
 "metadata": {
  "interpreter": {
   "hash": "502c2cd614d093a3be30031cbabda9e1b1b1c5d2fdc17ac0be9ebae842ffa0cd"
  },
  "kernelspec": {
   "display_name": "Python 3.8.8 64-bit ('base': conda)",
   "language": "python",
   "name": "python3"
  },
  "language_info": {
   "codemirror_mode": {
    "name": "ipython",
    "version": 3
   },
   "file_extension": ".py",
   "mimetype": "text/x-python",
   "name": "python",
   "nbconvert_exporter": "python",
   "pygments_lexer": "ipython3",
   "version": "3.8.8"
  },
  "orig_nbformat": 4
 },
 "nbformat": 4,
 "nbformat_minor": 2
}
