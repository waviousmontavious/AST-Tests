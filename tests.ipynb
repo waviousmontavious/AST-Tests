{
 "cells": [
  {
   "cell_type": "code",
   "execution_count": 1,
   "metadata": {},
   "outputs": [],
   "source": [
    "import ast\n",
    "from astpretty import pprint as astprint"
   ]
  },
  {
   "cell_type": "markdown",
   "metadata": {},
   "source": [
    "### Function call"
   ]
  },
  {
   "cell_type": "code",
   "execution_count": 4,
   "metadata": {},
   "outputs": [
    {
     "name": "stdout",
     "output_type": "stream",
     "text": [
      "Module(\n",
      "    body=[\n",
      "        Expr(\n",
      "            lineno=1,\n",
      "            col_offset=0,\n",
      "            end_lineno=1,\n",
      "            end_col_offset=20,\n",
      "            value=Call(\n",
      "                lineno=1,\n",
      "                col_offset=0,\n",
      "                end_lineno=1,\n",
      "                end_col_offset=20,\n",
      "                func=Name(lineno=1, col_offset=0, end_lineno=1, end_col_offset=4, id='func', ctx=Load()),\n",
      "                args=[],\n",
      "                keywords=[\n",
      "                    keyword(\n",
      "                        arg='arg1',\n",
      "                        value=Name(lineno=1, col_offset=10, end_lineno=1, end_col_offset=11, id='a', ctx=Load()),\n",
      "                    ),\n",
      "                    keyword(\n",
      "                        arg='arg2',\n",
      "                        value=Name(lineno=1, col_offset=18, end_lineno=1, end_col_offset=19, id='b', ctx=Load()),\n",
      "                    ),\n",
      "                ],\n",
      "            ),\n",
      "        ),\n",
      "    ],\n",
      "    type_ignores=[],\n",
      ")\n"
     ]
    }
   ],
   "source": [
    "tree = ast.parse('func(arg1=a, arg2=b)')\n",
    "astprint(tree)"
   ]
  },
  {
   "cell_type": "markdown",
   "metadata": {},
   "source": [
    "### Tiny Script"
   ]
  },
  {
   "cell_type": "code",
   "execution_count": 5,
   "metadata": {},
   "outputs": [
    {
     "name": "stdout",
     "output_type": "stream",
     "text": [
      "Module(\n",
      "    body=[\n",
      "        Expr(\n",
      "            lineno=2,\n",
      "            col_offset=0,\n",
      "            end_lineno=2,\n",
      "            end_col_offset=28,\n",
      "            value=Call(\n",
      "                lineno=2,\n",
      "                col_offset=0,\n",
      "                end_lineno=2,\n",
      "                end_col_offset=28,\n",
      "                func=Name(lineno=2, col_offset=0, end_lineno=2, end_col_offset=5, id='func1', ctx=Load()),\n",
      "                args=[Constant(lineno=2, col_offset=6, end_lineno=2, end_col_offset=13, value='hello', kind=None)],\n",
      "                keywords=[\n",
      "                    keyword(\n",
      "                        arg='arg2',\n",
      "                        value=Constant(lineno=2, col_offset=20, end_lineno=2, end_col_offset=27, value='world', kind=None),\n",
      "                    ),\n",
      "                ],\n",
      "            ),\n",
      "        ),\n",
      "        Assign(\n",
      "            lineno=3,\n",
      "            col_offset=0,\n",
      "            end_lineno=3,\n",
      "            end_col_offset=8,\n",
      "            targets=[Name(lineno=3, col_offset=0, end_lineno=3, end_col_offset=3, id='ten', ctx=Store())],\n",
      "            value=Constant(lineno=3, col_offset=6, end_lineno=3, end_col_offset=8, value=10, kind=None),\n",
      "            type_comment=None,\n",
      "        ),\n",
      "        If(\n",
      "            lineno=4,\n",
      "            col_offset=0,\n",
      "            end_lineno=5,\n",
      "            end_col_offset=21,\n",
      "            test=Compare(\n",
      "                lineno=4,\n",
      "                col_offset=3,\n",
      "                end_lineno=4,\n",
      "                end_col_offset=12,\n",
      "                left=Name(lineno=4, col_offset=3, end_lineno=4, end_col_offset=6, id='ten', ctx=Load()),\n",
      "                ops=[NotEq()],\n",
      "                comparators=[Constant(lineno=4, col_offset=10, end_lineno=4, end_col_offset=12, value=10, kind=None)],\n",
      "            ),\n",
      "            body=[\n",
      "                Expr(\n",
      "                    lineno=5,\n",
      "                    col_offset=4,\n",
      "                    end_lineno=5,\n",
      "                    end_col_offset=21,\n",
      "                    value=Call(\n",
      "                        lineno=5,\n",
      "                        col_offset=4,\n",
      "                        end_lineno=5,\n",
      "                        end_col_offset=21,\n",
      "                        func=Name(lineno=5, col_offset=4, end_lineno=5, end_col_offset=9, id='print', ctx=Load()),\n",
      "                        args=[Constant(lineno=5, col_offset=10, end_lineno=5, end_col_offset=20, value='not true', kind=None)],\n",
      "                        keywords=[],\n",
      "                    ),\n",
      "                ),\n",
      "            ],\n",
      "            orelse=[],\n",
      "        ),\n",
      "    ],\n",
      "    type_ignores=[],\n",
      ")\n"
     ]
    }
   ],
   "source": [
    "tree = ast.parse('''\n",
    "func1(\"hello\", arg2=\"world\")\n",
    "ten = 10\n",
    "if ten != 10:\n",
    "    print(\"not true\")\n",
    "''')\n",
    "astprint(tree)"
   ]
  },
  {
   "cell_type": "code",
   "execution_count": 7,
   "metadata": {},
   "outputs": [
    {
     "name": "stdout",
     "output_type": "stream",
     "text": [
      "[<class '_ast.Expr'>, <class '_ast.Assign'>, <class '_ast.If'>]\n"
     ]
    }
   ],
   "source": [
    "# list node types to show order\n",
    "print([type(c) for c in tree.body])"
   ]
  },
  {
   "cell_type": "code",
   "execution_count": 11,
   "metadata": {},
   "outputs": [
    {
     "name": "stdout",
     "output_type": "stream",
     "text": [
      "True\n"
     ]
    }
   ],
   "source": [
    "#print(list(filter(lambda c: c is ast.If, tree.body)))\n",
    "node = tree.body[2]\n",
    "# check if type\n",
    "print(isinstance(node, ast.If))"
   ]
  },
  {
   "cell_type": "code",
   "execution_count": 12,
   "metadata": {},
   "outputs": [
    {
     "name": "stdout",
     "output_type": "stream",
     "text": [
      "If(\n",
      "    lineno=4,\n",
      "    col_offset=0,\n",
      "    end_lineno=5,\n",
      "    end_col_offset=21,\n",
      "    test=Compare(\n",
      "        lineno=4,\n",
      "        col_offset=3,\n",
      "        end_lineno=4,\n",
      "        end_col_offset=12,\n",
      "        left=Name(lineno=4, col_offset=3, end_lineno=4, end_col_offset=6, id='ten', ctx=Load()),\n",
      "        ops=[NotEq()],\n",
      "        comparators=[Constant(lineno=4, col_offset=10, end_lineno=4, end_col_offset=12, value=10, kind=None)],\n",
      "    ),\n",
      "    body=[\n",
      "        Expr(\n",
      "            lineno=5,\n",
      "            col_offset=4,\n",
      "            end_lineno=5,\n",
      "            end_col_offset=21,\n",
      "            value=Call(\n",
      "                lineno=5,\n",
      "                col_offset=4,\n",
      "                end_lineno=5,\n",
      "                end_col_offset=21,\n",
      "                func=Name(lineno=5, col_offset=4, end_lineno=5, end_col_offset=9, id='print', ctx=Load()),\n",
      "                args=[Constant(lineno=5, col_offset=10, end_lineno=5, end_col_offset=20, value='not true', kind=None)],\n",
      "                keywords=[],\n",
      "            ),\n",
      "        ),\n",
      "    ],\n",
      "    orelse=[],\n",
      ")\n"
     ]
    }
   ],
   "source": [
    "# print if\n",
    "astprint(node)"
   ]
  },
  {
   "cell_type": "markdown",
   "metadata": {},
   "source": [
    "### Complex function call"
   ]
  },
  {
   "cell_type": "code",
   "execution_count": 14,
   "metadata": {},
   "outputs": [],
   "source": [
    "tree = ast.parse('module1.func1(a, b, c, arg1=var1, arg2=var2, arg3=\"literal\", arg4=4)')"
   ]
  },
  {
   "cell_type": "code",
   "execution_count": 17,
   "metadata": {},
   "outputs": [
    {
     "name": "stdout",
     "output_type": "stream",
     "text": [
      "Call(\n",
      "    lineno=1,\n",
      "    col_offset=0,\n",
      "    end_lineno=1,\n",
      "    end_col_offset=68,\n",
      "    func=Attribute(\n",
      "        lineno=1,\n",
      "        col_offset=0,\n",
      "        end_lineno=1,\n",
      "        end_col_offset=13,\n",
      "        value=Name(lineno=1, col_offset=0, end_lineno=1, end_col_offset=7, id='module1', ctx=Load()),\n",
      "        attr='func1',\n",
      "        ctx=Load(),\n",
      "    ),\n",
      "    args=[\n",
      "        Name(lineno=1, col_offset=14, end_lineno=1, end_col_offset=15, id='a', ctx=Load()),\n",
      "        Name(lineno=1, col_offset=17, end_lineno=1, end_col_offset=18, id='b', ctx=Load()),\n",
      "        Name(lineno=1, col_offset=20, end_lineno=1, end_col_offset=21, id='c', ctx=Load()),\n",
      "    ],\n",
      "    keywords=[\n",
      "        keyword(\n",
      "            arg='arg1',\n",
      "            value=Name(lineno=1, col_offset=28, end_lineno=1, end_col_offset=32, id='var1', ctx=Load()),\n",
      "        ),\n",
      "        keyword(\n",
      "            arg='arg2',\n",
      "            value=Name(lineno=1, col_offset=39, end_lineno=1, end_col_offset=43, id='var2', ctx=Load()),\n",
      "        ),\n",
      "        keyword(\n",
      "            arg='arg3',\n",
      "            value=Constant(lineno=1, col_offset=50, end_lineno=1, end_col_offset=59, value='literal', kind=None),\n",
      "        ),\n",
      "        keyword(\n",
      "            arg='arg4',\n",
      "            value=Constant(lineno=1, col_offset=66, end_lineno=1, end_col_offset=67, value=4, kind=None),\n",
      "        ),\n",
      "    ],\n",
      ")\n"
     ]
    }
   ],
   "source": [
    "call = tree.body[0].value\n",
    "astprint(call)"
   ]
  },
  {
   "cell_type": "code",
   "execution_count": 19,
   "metadata": {},
   "outputs": [
    {
     "name": "stdout",
     "output_type": "stream",
     "text": [
      "Name(lineno=1, col_offset=14, end_lineno=1, end_col_offset=15, id='a', ctx=Load())\n",
      "Name(lineno=1, col_offset=17, end_lineno=1, end_col_offset=18, id='b', ctx=Load())\n",
      "Name(lineno=1, col_offset=20, end_lineno=1, end_col_offset=21, id='c', ctx=Load())\n"
     ]
    }
   ],
   "source": [
    "for a in call.args: astprint(a)"
   ]
  },
  {
   "cell_type": "code",
   "execution_count": 20,
   "metadata": {},
   "outputs": [
    {
     "name": "stdout",
     "output_type": "stream",
     "text": [
      "keyword(\n",
      "    arg='arg1',\n",
      "    value=Name(lineno=1, col_offset=28, end_lineno=1, end_col_offset=32, id='var1', ctx=Load()),\n",
      ")\n",
      "keyword(\n",
      "    arg='arg2',\n",
      "    value=Name(lineno=1, col_offset=39, end_lineno=1, end_col_offset=43, id='var2', ctx=Load()),\n",
      ")\n",
      "keyword(\n",
      "    arg='arg3',\n",
      "    value=Constant(lineno=1, col_offset=50, end_lineno=1, end_col_offset=59, value='literal', kind=None),\n",
      ")\n",
      "keyword(\n",
      "    arg='arg4',\n",
      "    value=Constant(lineno=1, col_offset=66, end_lineno=1, end_col_offset=67, value=4, kind=None),\n",
      ")\n"
     ]
    }
   ],
   "source": [
    "for k in call.keywords: astprint(k)"
   ]
  },
  {
   "cell_type": "code",
   "execution_count": null,
   "metadata": {},
   "outputs": [],
   "source": []
  }
 ],
 "metadata": {
  "interpreter": {
   "hash": "502c2cd614d093a3be30031cbabda9e1b1b1c5d2fdc17ac0be9ebae842ffa0cd"
  },
  "kernelspec": {
   "display_name": "Python 3.8.8 64-bit ('base': conda)",
   "language": "python",
   "name": "python3"
  },
  "language_info": {
   "codemirror_mode": {
    "name": "ipython",
    "version": 3
   },
   "file_extension": ".py",
   "mimetype": "text/x-python",
   "name": "python",
   "nbconvert_exporter": "python",
   "pygments_lexer": "ipython3",
   "version": "3.8.8"
  },
  "orig_nbformat": 4
 },
 "nbformat": 4,
 "nbformat_minor": 2
}
